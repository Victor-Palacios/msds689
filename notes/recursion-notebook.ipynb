{
 "cells": [
  {
   "cell_type": "markdown",
   "metadata": {},
   "source": [
    "# Math functions defined recursively"
   ]
  },
  {
   "cell_type": "markdown",
   "metadata": {},
   "source": [
    "## Factorial"
   ]
  },
  {
   "cell_type": "code",
   "execution_count": 1,
   "metadata": {},
   "outputs": [],
   "source": [
    "def fact(n):\n",
    "    if n==0: return 1\n",
    "    return n * fact(n-1)"
   ]
  },
  {
   "cell_type": "code",
   "execution_count": 2,
   "metadata": {},
   "outputs": [
    {
     "name": "stdout",
     "output_type": "stream",
     "text": [
      "0: 1\n",
      "1: 1\n",
      "2: 2\n",
      "3: 6\n",
      "4: 24\n",
      "5: 120\n",
      "6: 720\n",
      "7: 5040\n",
      "8: 40320\n",
      "9: 362880\n",
      "10: 3628800\n",
      "11: 39916800\n"
     ]
    }
   ],
   "source": [
    "for i in range(12): print(f\"{i}: {fact(i)}\")"
   ]
  },
  {
   "cell_type": "code",
   "execution_count": 3,
   "metadata": {},
   "outputs": [],
   "source": [
    "def factloop(n):\n",
    "    r = 1\n",
    "    for i in range(1,n+1):\n",
    "        r *= i\n",
    "    return r"
   ]
  },
  {
   "cell_type": "code",
   "execution_count": 4,
   "metadata": {},
   "outputs": [
    {
     "name": "stdout",
     "output_type": "stream",
     "text": [
      "0: 1\n",
      "1: 1\n",
      "2: 2\n",
      "3: 6\n",
      "4: 24\n",
      "5: 120\n",
      "6: 720\n",
      "7: 5040\n",
      "8: 40320\n",
      "9: 362880\n",
      "10: 3628800\n",
      "11: 39916800\n"
     ]
    }
   ],
   "source": [
    "for i in range(12): print(f\"{i}: {factloop(i)}\")"
   ]
  },
  {
   "cell_type": "markdown",
   "metadata": {},
   "source": [
    "## Fibonacci\n",
    "\n",
    "### Naive recursive"
   ]
  },
  {
   "cell_type": "code",
   "execution_count": 5,
   "metadata": {},
   "outputs": [],
   "source": [
    "def fib(n):\n",
    "    if n==0 or n==1: return 1\n",
    "    return fib(n-1) + fib(n-2)"
   ]
  },
  {
   "cell_type": "code",
   "execution_count": 6,
   "metadata": {},
   "outputs": [
    {
     "name": "stdout",
     "output_type": "stream",
     "text": [
      "0: 1\n",
      "1: 1\n",
      "2: 2\n",
      "3: 3\n",
      "4: 5\n",
      "5: 8\n",
      "6: 13\n",
      "7: 21\n",
      "8: 34\n",
      "9: 55\n",
      "10: 89\n",
      "11: 144\n"
     ]
    }
   ],
   "source": [
    "for i in range(12): print(f\"{i}: {fib(i)}\")"
   ]
  },
  {
   "cell_type": "code",
   "execution_count": 7,
   "metadata": {},
   "outputs": [
    {
     "name": "stdout",
     "output_type": "stream",
     "text": [
      "13.2 s ± 0 ns per loop (mean ± std. dev. of 1 run, 1 loop each)\n"
     ]
    }
   ],
   "source": [
    "%timeit -r 1 -n 1 fib(38)"
   ]
  },
  {
   "cell_type": "code",
   "execution_count": 8,
   "metadata": {},
   "outputs": [
    {
     "data": {
      "text/plain": [
       "63245986"
      ]
     },
     "execution_count": 8,
     "metadata": {},
     "output_type": "execute_result"
    }
   ],
   "source": [
    "fib(38)"
   ]
  },
  {
   "cell_type": "markdown",
   "metadata": {},
   "source": [
    "### Iterative"
   ]
  },
  {
   "cell_type": "code",
   "execution_count": 9,
   "metadata": {},
   "outputs": [],
   "source": [
    "def cachefib(n):\n",
    "    F = [0 for i in range(n+1)]\n",
    "    F[0] = F[1] = 1\n",
    "    # work up not down\n",
    "    for i in range(2,n+1): \n",
    "        F[i] = F[i-1] + F[i-2]\n",
    "    return F[n]    "
   ]
  },
  {
   "cell_type": "code",
   "execution_count": 10,
   "metadata": {},
   "outputs": [
    {
     "name": "stdout",
     "output_type": "stream",
     "text": [
      "225 µs ± 0 ns per loop (mean ± std. dev. of 1 run, 1 loop each)\n"
     ]
    }
   ],
   "source": [
    "%timeit -r 1 -n 1 cachefib(1000)"
   ]
  },
  {
   "cell_type": "markdown",
   "metadata": {},
   "source": [
    "### Memoized recursive"
   ]
  },
  {
   "cell_type": "code",
   "execution_count": 11,
   "metadata": {},
   "outputs": [],
   "source": [
    "def memofib(n, memo = {}):\n",
    "    if n==0 or n==1: return 1\n",
    "    # return if already computed\n",
    "    if n in memo: return memo[n]\n",
    "    f = memofib(n-1,memo) + memofib(n-2,memo)\n",
    "    memo[n] = f # memoize result\n",
    "    return f"
   ]
  },
  {
   "cell_type": "code",
   "execution_count": 12,
   "metadata": {},
   "outputs": [
    {
     "name": "stdout",
     "output_type": "stream",
     "text": [
      "1.41 ms ± 0 ns per loop (mean ± std. dev. of 1 run, 1 loop each)\n"
     ]
    }
   ],
   "source": [
    "%timeit -r 1 -n 1 memofib(1000)"
   ]
  },
  {
   "cell_type": "markdown",
   "metadata": {},
   "source": [
    "# Merge sort"
   ]
  },
  {
   "cell_type": "code",
   "execution_count": 13,
   "metadata": {},
   "outputs": [],
   "source": [
    "def msort(A):\n",
    "    if len(A)==1:\n",
    "        return A\n",
    "    if len(A)==2:\n",
    "        return A if A[0]<A[1] else [A[1],A[0]]\n",
    "    mid = int(len(A)/2)\n",
    "    left = msort(A[:mid])\n",
    "    right = msort(A[mid:])\n",
    "    return sorted(left + right)"
   ]
  },
  {
   "cell_type": "code",
   "execution_count": 14,
   "metadata": {},
   "outputs": [
    {
     "name": "stdout",
     "output_type": "stream",
     "text": [
      "[59, 46, 62, 63, 79, 75, 77, 35, 16, 49]\n",
      "[16 35 46 49 59 62 63 75 77 79]\n"
     ]
    }
   ],
   "source": [
    "import numpy as np\n",
    "A = list(np.random.randint(0,100,10))\n",
    "print(A)\n",
    "r = msort(A)\n",
    "print(np.array(r))"
   ]
  },
  {
   "cell_type": "markdown",
   "metadata": {},
   "source": [
    "## Compute powers of 2"
   ]
  },
  {
   "cell_type": "code",
   "execution_count": 15,
   "metadata": {},
   "outputs": [
    {
     "data": {
      "text/plain": [
       "[1, 2, 4, 8, 16, 32, 64, 128]"
      ]
     },
     "execution_count": 15,
     "metadata": {},
     "output_type": "execute_result"
    }
   ],
   "source": [
    "def pow2(n):\n",
    "    if n==0: return 1\n",
    "    return 2 * pow2(n-1)\n",
    "\n",
    "[pow2(i) for i in range(8)]"
   ]
  },
  {
   "cell_type": "code",
   "execution_count": 16,
   "metadata": {},
   "outputs": [
    {
     "data": {
      "text/plain": [
       "[1, 2, 4, 8, 16, 32, 64, 128]"
      ]
     },
     "execution_count": 16,
     "metadata": {},
     "output_type": "execute_result"
    }
   ],
   "source": [
    "def pow2(n):\n",
    "    v = 1\n",
    "    for i in range(n): v *= 2\n",
    "    return v\n",
    "[pow2(i) for i in range(8)]"
   ]
  },
  {
   "cell_type": "code",
   "execution_count": 17,
   "metadata": {},
   "outputs": [
    {
     "data": {
      "text/plain": [
       "[1, 2, 4, 8, 16, 32, 64, 128]"
      ]
     },
     "execution_count": 17,
     "metadata": {},
     "output_type": "execute_result"
    }
   ],
   "source": [
    "def pow2(n):\n",
    "    if n==0: return 1\n",
    "    half = pow2(n//2)\n",
    "    if n % 2==0: # if even\n",
    "        return half * half\n",
    "    return 2 * half * half\n",
    "[pow2(i) for i in range(8)]"
   ]
  }
 ],
 "metadata": {
  "kernelspec": {
   "display_name": "Python 3",
   "language": "python",
   "name": "python3"
  },
  "language_info": {
   "codemirror_mode": {
    "name": "ipython",
    "version": 3
   },
   "file_extension": ".py",
   "mimetype": "text/x-python",
   "name": "python",
   "nbconvert_exporter": "python",
   "pygments_lexer": "ipython3",
   "version": "3.8.6"
  }
 },
 "nbformat": 4,
 "nbformat_minor": 4
}
