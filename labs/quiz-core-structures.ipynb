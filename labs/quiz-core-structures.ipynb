{
 "cells": [
  {
   "cell_type": "markdown",
   "metadata": {},
   "source": [
    "# Practice quiz: core data structures"
   ]
  },
  {
   "cell_type": "markdown",
   "metadata": {},
   "source": [
    "**Q**. What is the output the following code?\n",
    "\n",
    "```python\n",
    "def f(x):\n",
    "    x[0] = 9\n",
    "y = [1,2,3]\n",
    "f(y)\n",
    "print(y[0])\n",
    "```"
   ]
  },
  {
   "cell_type": "markdown",
   "metadata": {},
   "source": [
    "<details>\n",
    "<summary>Solution</summary>\n",
    "\"9\" because x is an alias for y (x points at y) inside f, altering x is the same thing as altering y.\n",
    "</details>"
   ]
  },
  {
   "cell_type": "markdown",
   "metadata": {},
   "source": [
    "**Q**. Which abstract data structure adds elements to the back and removes elements from the front?"
   ]
  },
  {
   "cell_type": "markdown",
   "metadata": {},
   "source": [
    "<details>\n",
    "<summary>Solution</summary>\n",
    "Queue (not List or Stack)\n",
    "</details>"
   ]
  },
  {
   "cell_type": "markdown",
   "metadata": {},
   "source": [
    "**Q**. What's the difference between a List and a Set abstract data type?"
   ]
  },
  {
   "cell_type": "markdown",
   "metadata": {},
   "source": [
    "<details>\n",
    "<summary>Solution</summary>\n",
    "A Set is unordered and has unique elements\n",
    "</details>"
   ]
  },
  {
   "cell_type": "markdown",
   "metadata": {},
   "source": [
    "**Q**. When should you use a hash table over an array to represent a collection of strings?"
   ]
  },
  {
   "cell_type": "markdown",
   "metadata": {},
   "source": [
    "<details>\n",
    "<summary>Solution</summary>\n",
    "When you need to test membership of an unknown string in constant time. Note that the hash table generally will not keep track of order, so there is a trade-off. There are however hash tables that keep a link through the elements to preserve some original order.\n",
    "</details>"
   ]
  },
  {
   "cell_type": "markdown",
   "metadata": {},
   "source": [
    "**Q**. Describe a good use case for a graph data structure."
   ]
  },
  {
   "cell_type": "markdown",
   "metadata": {},
   "source": [
    "<details>\n",
    "<summary>Solution</summary>\n",
    "Graphs are very good at showing the relationship between entities, such as who emailed who in an email data set or who follows who on twitter. Direct and indirect relationships and subcommunities can be found using known algorithms on graphs.\n",
    "</details>"
   ]
  },
  {
   "cell_type": "markdown",
   "metadata": {},
   "source": [
    "**Q**. Given an unsorted list that might contain duplicates, describe an algorithm or write Python code that will create a new list without duplicates (like numpy.unique())."
   ]
  },
  {
   "cell_type": "markdown",
   "metadata": {},
   "source": [
    "<details>\n",
    "<summary>Solution</summary>\n",
    "The simplest approach is to walk the given list and add each element to the new list, if the new list doesn't already have that element.  Notice how I have created a function rather than a script.\n",
    "\n",
    "<pre>\n",
    "A = [9,1,3,1,9]\n",
    "def unique(A):\n",
    "    B = []\n",
    "    for a in A:\n",
    "        if a not in B:\n",
    "            B.append(a)\n",
    "    return B\n",
    "\n",
    "unique(A)\n",
    "</pre>\n",
    "</details>"
   ]
  },
  {
   "cell_type": "markdown",
   "metadata": {},
   "source": [
    "**Q**. The solution you gave for the removing duplicates problem is likely inefficient (O(n^2)).  Now describe an algorithm that is guaranteed to be linear worst-case time, O(n)."
   ]
  },
  {
   "cell_type": "markdown",
   "metadata": {},
   "source": [
    "<details>\n",
    "<summary>Solution</summary>\n",
    "It's a good idea to learn the trick of using data structures on the side in a supporting role. In this case we need to very quickly determine whether an element is in the new list or not, which we can do by using a set of already-seen elements.\n",
    "\n",
    "<pre>\n",
    "def unique(A):\n",
    "    B = []\n",
    "    seen = set()\n",
    "    for a in A:\n",
    "        if a not in seen:\n",
    "            B.append(a)\n",
    "            seen.add(a)\n",
    "    return B\n",
    "</pre>\n",
    "\n",
    "Or, you could do an extra walk of the set (list(seen)) to get a list at the end\n",
    "\n",
    "<pre>\n",
    "def unique(A):\n",
    "    seen = set()\n",
    "    for a in A:\n",
    "        if a not in seen:\n",
    "            seen.add(a)\n",
    "    return list(seen)\n",
    "</pre>\n",
    "</details>"
   ]
  }
 ],
 "metadata": {
  "kernelspec": {
   "display_name": "Python 3",
   "language": "python",
   "name": "python3"
  },
  "language_info": {
   "codemirror_mode": {
    "name": "ipython",
    "version": 3
   },
   "file_extension": ".py",
   "mimetype": "text/x-python",
   "name": "python",
   "nbconvert_exporter": "python",
   "pygments_lexer": "ipython3",
   "version": "3.8.6"
  }
 },
 "nbformat": 4,
 "nbformat_minor": 4
}
